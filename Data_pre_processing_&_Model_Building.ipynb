{
  "nbformat": 4,
  "nbformat_minor": 0,
  "metadata": {
    "colab": {
      "name": "Data pre-processing & Model Building.ipynb",
      "provenance": [],
      "collapsed_sections": [
        "gwAYOwUOxhk6",
        "vZcuIxA8101k",
        "psmRlKqKAmAL",
        "pJVZOxdbAqnF",
        "bIkTklzFeYzu",
        "6h9B0Vh4edS6",
        "rcZIlso_d5Z2",
        "pYvCiuvHd99U",
        "VijWo3C7dz5G",
        "nH2pH9qNdsCR",
        "4qcvuuMmeFYH",
        "DlAWgy47LraN",
        "IU2D89N1mCgM"
      ]
    },
    "kernelspec": {
      "name": "python3",
      "display_name": "Python 3"
    },
    "language_info": {
      "name": "python"
    }
  },
  "cells": [
    {
      "cell_type": "markdown",
      "source": [
        "# Data pre-processing & Model Building"
      ],
      "metadata": {
        "id": "nrANz4aXij1C"
      }
    },
    {
      "cell_type": "markdown",
      "source": [
        "## Importing Libraries & loading the data"
      ],
      "metadata": {
        "id": "gwAYOwUOxhk6"
      }
    },
    {
      "cell_type": "code",
      "source": [
        "import pandas as pd\n",
        "import numpy as np\n",
        "\n",
        "from sklearn.model_selection import train_test_split, RandomizedSearchCV\n",
        "from imblearn.combine import SMOTEENN, SMOTETomek\n",
        "from sklearn.compose import ColumnTransformer, make_column_transformer\n",
        "from sklearn.pipeline import Pipeline, make_pipeline\n",
        "from imblearn.pipeline import Pipeline as pp\n",
        "from sklearn.impute import SimpleImputer\n",
        "from sklearn.preprocessing import OrdinalEncoder, OneHotEncoder, LabelEncoder, MinMaxScaler\n",
        "from sklearn.linear_model import LogisticRegression\n",
        "from sklearn.metrics import classification_report, plot_confusion_matrix\n",
        "from sklearn.ensemble import RandomForestClassifier, AdaBoostClassifier, GradientBoostingClassifier\n",
        "from sklearn.tree import DecisionTreeClassifier\n",
        "\n",
        "\n",
        "pd.set_option('max.columns', None)\n",
        "import warnings\n",
        "warnings.filterwarnings('ignore')"
      ],
      "metadata": {
        "id": "blhAekPWx0r4"
      },
      "execution_count": null,
      "outputs": []
    },
    {
      "cell_type": "code",
      "source": [
        "data = pd.read_csv('/content/drive/MyDrive/Thyroid detection Project/hypothyroid.csv', na_values=['?'])\n",
        "data.sample(3)"
      ],
      "metadata": {
        "colab": {
          "base_uri": "https://localhost:8080/"
        },
        "id": "htxI3Mx00e1f",
        "outputId": "0591c885-4655-437c-8608-0295a3f05b51"
      },
      "execution_count": null,
      "outputs": [
        {
          "output_type": "execute_result",
          "data": {
            "text/plain": [
              "       age sex on thyroxine query on thyroxine on antithyroid medication sick  \\\n",
              "1718  68.0   M            f                  f                         f    f   \n",
              "419   83.0   M            f                  f                         f    f   \n",
              "2639  46.0   M            f                  f                         f    f   \n",
              "\n",
              "     pregnant thyroid surgery I131 treatment query hypothyroid  \\\n",
              "1718        f               f              f                 f   \n",
              "419         f               f              f                 f   \n",
              "2639        f               f              f                 f   \n",
              "\n",
              "     query hyperthyroid lithium goitre tumor hypopituitary psych TSH measured  \\\n",
              "1718                  f       f      f     f             f     f            f   \n",
              "419                   f       f      f     f             f     f            t   \n",
              "2639                  f       f      f     f             f     t            t   \n",
              "\n",
              "       TSH T3 measured   T3 TT4 measured    TT4 T4U measured   T4U  \\\n",
              "1718   NaN           f  NaN            f    NaN            f   NaN   \n",
              "419   2.40           t  1.2            t   99.0            t  0.88   \n",
              "2639  0.98           t  2.5            t  120.0            t  1.06   \n",
              "\n",
              "     FTI measured    FTI TBG measured  TBG referral source binaryClass  \n",
              "1718            f    NaN            f  NaN           other           P  \n",
              "419             t  112.0            f  NaN           other           P  \n",
              "2639            t  113.0            f  NaN            SVHC           P  "
            ],
            "text/html": [
              "\n",
              "  <div id=\"df-d83e36de-a514-4af6-bccb-228fcbf29492\">\n",
              "    <div class=\"colab-df-container\">\n",
              "      <div>\n",
              "<style scoped>\n",
              "    .dataframe tbody tr th:only-of-type {\n",
              "        vertical-align: middle;\n",
              "    }\n",
              "\n",
              "    .dataframe tbody tr th {\n",
              "        vertical-align: top;\n",
              "    }\n",
              "\n",
              "    .dataframe thead th {\n",
              "        text-align: right;\n",
              "    }\n",
              "</style>\n",
              "<table border=\"1\" class=\"dataframe\">\n",
              "  <thead>\n",
              "    <tr style=\"text-align: right;\">\n",
              "      <th></th>\n",
              "      <th>age</th>\n",
              "      <th>sex</th>\n",
              "      <th>on thyroxine</th>\n",
              "      <th>query on thyroxine</th>\n",
              "      <th>on antithyroid medication</th>\n",
              "      <th>sick</th>\n",
              "      <th>pregnant</th>\n",
              "      <th>thyroid surgery</th>\n",
              "      <th>I131 treatment</th>\n",
              "      <th>query hypothyroid</th>\n",
              "      <th>query hyperthyroid</th>\n",
              "      <th>lithium</th>\n",
              "      <th>goitre</th>\n",
              "      <th>tumor</th>\n",
              "      <th>hypopituitary</th>\n",
              "      <th>psych</th>\n",
              "      <th>TSH measured</th>\n",
              "      <th>TSH</th>\n",
              "      <th>T3 measured</th>\n",
              "      <th>T3</th>\n",
              "      <th>TT4 measured</th>\n",
              "      <th>TT4</th>\n",
              "      <th>T4U measured</th>\n",
              "      <th>T4U</th>\n",
              "      <th>FTI measured</th>\n",
              "      <th>FTI</th>\n",
              "      <th>TBG measured</th>\n",
              "      <th>TBG</th>\n",
              "      <th>referral source</th>\n",
              "      <th>binaryClass</th>\n",
              "    </tr>\n",
              "  </thead>\n",
              "  <tbody>\n",
              "    <tr>\n",
              "      <th>1718</th>\n",
              "      <td>68.0</td>\n",
              "      <td>M</td>\n",
              "      <td>f</td>\n",
              "      <td>f</td>\n",
              "      <td>f</td>\n",
              "      <td>f</td>\n",
              "      <td>f</td>\n",
              "      <td>f</td>\n",
              "      <td>f</td>\n",
              "      <td>f</td>\n",
              "      <td>f</td>\n",
              "      <td>f</td>\n",
              "      <td>f</td>\n",
              "      <td>f</td>\n",
              "      <td>f</td>\n",
              "      <td>f</td>\n",
              "      <td>f</td>\n",
              "      <td>NaN</td>\n",
              "      <td>f</td>\n",
              "      <td>NaN</td>\n",
              "      <td>f</td>\n",
              "      <td>NaN</td>\n",
              "      <td>f</td>\n",
              "      <td>NaN</td>\n",
              "      <td>f</td>\n",
              "      <td>NaN</td>\n",
              "      <td>f</td>\n",
              "      <td>NaN</td>\n",
              "      <td>other</td>\n",
              "      <td>P</td>\n",
              "    </tr>\n",
              "    <tr>\n",
              "      <th>419</th>\n",
              "      <td>83.0</td>\n",
              "      <td>M</td>\n",
              "      <td>f</td>\n",
              "      <td>f</td>\n",
              "      <td>f</td>\n",
              "      <td>f</td>\n",
              "      <td>f</td>\n",
              "      <td>f</td>\n",
              "      <td>f</td>\n",
              "      <td>f</td>\n",
              "      <td>f</td>\n",
              "      <td>f</td>\n",
              "      <td>f</td>\n",
              "      <td>f</td>\n",
              "      <td>f</td>\n",
              "      <td>f</td>\n",
              "      <td>t</td>\n",
              "      <td>2.40</td>\n",
              "      <td>t</td>\n",
              "      <td>1.2</td>\n",
              "      <td>t</td>\n",
              "      <td>99.0</td>\n",
              "      <td>t</td>\n",
              "      <td>0.88</td>\n",
              "      <td>t</td>\n",
              "      <td>112.0</td>\n",
              "      <td>f</td>\n",
              "      <td>NaN</td>\n",
              "      <td>other</td>\n",
              "      <td>P</td>\n",
              "    </tr>\n",
              "    <tr>\n",
              "      <th>2639</th>\n",
              "      <td>46.0</td>\n",
              "      <td>M</td>\n",
              "      <td>f</td>\n",
              "      <td>f</td>\n",
              "      <td>f</td>\n",
              "      <td>f</td>\n",
              "      <td>f</td>\n",
              "      <td>f</td>\n",
              "      <td>f</td>\n",
              "      <td>f</td>\n",
              "      <td>f</td>\n",
              "      <td>f</td>\n",
              "      <td>f</td>\n",
              "      <td>f</td>\n",
              "      <td>f</td>\n",
              "      <td>t</td>\n",
              "      <td>t</td>\n",
              "      <td>0.98</td>\n",
              "      <td>t</td>\n",
              "      <td>2.5</td>\n",
              "      <td>t</td>\n",
              "      <td>120.0</td>\n",
              "      <td>t</td>\n",
              "      <td>1.06</td>\n",
              "      <td>t</td>\n",
              "      <td>113.0</td>\n",
              "      <td>f</td>\n",
              "      <td>NaN</td>\n",
              "      <td>SVHC</td>\n",
              "      <td>P</td>\n",
              "    </tr>\n",
              "  </tbody>\n",
              "</table>\n",
              "</div>\n",
              "      <button class=\"colab-df-convert\" onclick=\"convertToInteractive('df-d83e36de-a514-4af6-bccb-228fcbf29492')\"\n",
              "              title=\"Convert this dataframe to an interactive table.\"\n",
              "              style=\"display:none;\">\n",
              "        \n",
              "  <svg xmlns=\"http://www.w3.org/2000/svg\" height=\"24px\"viewBox=\"0 0 24 24\"\n",
              "       width=\"24px\">\n",
              "    <path d=\"M0 0h24v24H0V0z\" fill=\"none\"/>\n",
              "    <path d=\"M18.56 5.44l.94 2.06.94-2.06 2.06-.94-2.06-.94-.94-2.06-.94 2.06-2.06.94zm-11 1L8.5 8.5l.94-2.06 2.06-.94-2.06-.94L8.5 2.5l-.94 2.06-2.06.94zm10 10l.94 2.06.94-2.06 2.06-.94-2.06-.94-.94-2.06-.94 2.06-2.06.94z\"/><path d=\"M17.41 7.96l-1.37-1.37c-.4-.4-.92-.59-1.43-.59-.52 0-1.04.2-1.43.59L10.3 9.45l-7.72 7.72c-.78.78-.78 2.05 0 2.83L4 21.41c.39.39.9.59 1.41.59.51 0 1.02-.2 1.41-.59l7.78-7.78 2.81-2.81c.8-.78.8-2.07 0-2.86zM5.41 20L4 18.59l7.72-7.72 1.47 1.35L5.41 20z\"/>\n",
              "  </svg>\n",
              "      </button>\n",
              "      \n",
              "  <style>\n",
              "    .colab-df-container {\n",
              "      display:flex;\n",
              "      flex-wrap:wrap;\n",
              "      gap: 12px;\n",
              "    }\n",
              "\n",
              "    .colab-df-convert {\n",
              "      background-color: #E8F0FE;\n",
              "      border: none;\n",
              "      border-radius: 50%;\n",
              "      cursor: pointer;\n",
              "      display: none;\n",
              "      fill: #1967D2;\n",
              "      height: 32px;\n",
              "      padding: 0 0 0 0;\n",
              "      width: 32px;\n",
              "    }\n",
              "\n",
              "    .colab-df-convert:hover {\n",
              "      background-color: #E2EBFA;\n",
              "      box-shadow: 0px 1px 2px rgba(60, 64, 67, 0.3), 0px 1px 3px 1px rgba(60, 64, 67, 0.15);\n",
              "      fill: #174EA6;\n",
              "    }\n",
              "\n",
              "    [theme=dark] .colab-df-convert {\n",
              "      background-color: #3B4455;\n",
              "      fill: #D2E3FC;\n",
              "    }\n",
              "\n",
              "    [theme=dark] .colab-df-convert:hover {\n",
              "      background-color: #434B5C;\n",
              "      box-shadow: 0px 1px 3px 1px rgba(0, 0, 0, 0.15);\n",
              "      filter: drop-shadow(0px 1px 2px rgba(0, 0, 0, 0.3));\n",
              "      fill: #FFFFFF;\n",
              "    }\n",
              "  </style>\n",
              "\n",
              "      <script>\n",
              "        const buttonEl =\n",
              "          document.querySelector('#df-d83e36de-a514-4af6-bccb-228fcbf29492 button.colab-df-convert');\n",
              "        buttonEl.style.display =\n",
              "          google.colab.kernel.accessAllowed ? 'block' : 'none';\n",
              "\n",
              "        async function convertToInteractive(key) {\n",
              "          const element = document.querySelector('#df-d83e36de-a514-4af6-bccb-228fcbf29492');\n",
              "          const dataTable =\n",
              "            await google.colab.kernel.invokeFunction('convertToInteractive',\n",
              "                                                     [key], {});\n",
              "          if (!dataTable) return;\n",
              "\n",
              "          const docLinkHtml = 'Like what you see? Visit the ' +\n",
              "            '<a target=\"_blank\" href=https://colab.research.google.com/notebooks/data_table.ipynb>data table notebook</a>'\n",
              "            + ' to learn more about interactive tables.';\n",
              "          element.innerHTML = '';\n",
              "          dataTable['output_type'] = 'display_data';\n",
              "          await google.colab.output.renderOutput(dataTable, element);\n",
              "          const docLink = document.createElement('div');\n",
              "          docLink.innerHTML = docLinkHtml;\n",
              "          element.appendChild(docLink);\n",
              "        }\n",
              "      </script>\n",
              "    </div>\n",
              "  </div>\n",
              "  "
            ]
          },
          "metadata": {},
          "execution_count": 2
        }
      ]
    },
    {
      "cell_type": "code",
      "source": [
        "cols_to_drop = ['TSH measured', 'T3 measured', 'TT4 measured', 'T4U measured',\n",
        "       'FTI measured', 'TBG measured', 'TBG']\n",
        "df = data.copy()\n",
        "df.drop(columns = cols_to_drop, axis = 1, inplace = True)\n",
        "df.sample(3)"
      ],
      "metadata": {
        "colab": {
          "base_uri": "https://localhost:8080/"
        },
        "id": "2OkFu8Ye09ny",
        "outputId": "f5ec394a-f89f-4822-9021-1e723e57cc12"
      },
      "execution_count": null,
      "outputs": [
        {
          "output_type": "execute_result",
          "data": {
            "text/plain": [
              "       age sex on thyroxine query on thyroxine on antithyroid medication sick  \\\n",
              "1842  56.0   F            f                  f                         f    f   \n",
              "359   34.0   F            f                  f                         f    f   \n",
              "2832  49.0   F            f                  f                         f    f   \n",
              "\n",
              "     pregnant thyroid surgery I131 treatment query hypothyroid  \\\n",
              "1842        f               f              f                 t   \n",
              "359         f               f              f                 f   \n",
              "2832        f               f              f                 f   \n",
              "\n",
              "     query hyperthyroid lithium goitre tumor hypopituitary psych  TSH   T3  \\\n",
              "1842                  f       f      f     f             f     f  1.5  NaN   \n",
              "359                   f       f      f     f             f     f  2.3  2.5   \n",
              "2832                  f       f      f     f             f     f  1.9  1.8   \n",
              "\n",
              "        TT4   T4U   FTI referral source binaryClass  \n",
              "1842  103.0  1.07  97.0             SVI           P  \n",
              "359   121.0  1.29  94.0            SVHC           P  \n",
              "2832   81.0  0.91  88.0           other           P  "
            ],
            "text/html": [
              "\n",
              "  <div id=\"df-a3b7976a-dd97-4a72-959c-6dc7c481e54d\">\n",
              "    <div class=\"colab-df-container\">\n",
              "      <div>\n",
              "<style scoped>\n",
              "    .dataframe tbody tr th:only-of-type {\n",
              "        vertical-align: middle;\n",
              "    }\n",
              "\n",
              "    .dataframe tbody tr th {\n",
              "        vertical-align: top;\n",
              "    }\n",
              "\n",
              "    .dataframe thead th {\n",
              "        text-align: right;\n",
              "    }\n",
              "</style>\n",
              "<table border=\"1\" class=\"dataframe\">\n",
              "  <thead>\n",
              "    <tr style=\"text-align: right;\">\n",
              "      <th></th>\n",
              "      <th>age</th>\n",
              "      <th>sex</th>\n",
              "      <th>on thyroxine</th>\n",
              "      <th>query on thyroxine</th>\n",
              "      <th>on antithyroid medication</th>\n",
              "      <th>sick</th>\n",
              "      <th>pregnant</th>\n",
              "      <th>thyroid surgery</th>\n",
              "      <th>I131 treatment</th>\n",
              "      <th>query hypothyroid</th>\n",
              "      <th>query hyperthyroid</th>\n",
              "      <th>lithium</th>\n",
              "      <th>goitre</th>\n",
              "      <th>tumor</th>\n",
              "      <th>hypopituitary</th>\n",
              "      <th>psych</th>\n",
              "      <th>TSH</th>\n",
              "      <th>T3</th>\n",
              "      <th>TT4</th>\n",
              "      <th>T4U</th>\n",
              "      <th>FTI</th>\n",
              "      <th>referral source</th>\n",
              "      <th>binaryClass</th>\n",
              "    </tr>\n",
              "  </thead>\n",
              "  <tbody>\n",
              "    <tr>\n",
              "      <th>1842</th>\n",
              "      <td>56.0</td>\n",
              "      <td>F</td>\n",
              "      <td>f</td>\n",
              "      <td>f</td>\n",
              "      <td>f</td>\n",
              "      <td>f</td>\n",
              "      <td>f</td>\n",
              "      <td>f</td>\n",
              "      <td>f</td>\n",
              "      <td>t</td>\n",
              "      <td>f</td>\n",
              "      <td>f</td>\n",
              "      <td>f</td>\n",
              "      <td>f</td>\n",
              "      <td>f</td>\n",
              "      <td>f</td>\n",
              "      <td>1.5</td>\n",
              "      <td>NaN</td>\n",
              "      <td>103.0</td>\n",
              "      <td>1.07</td>\n",
              "      <td>97.0</td>\n",
              "      <td>SVI</td>\n",
              "      <td>P</td>\n",
              "    </tr>\n",
              "    <tr>\n",
              "      <th>359</th>\n",
              "      <td>34.0</td>\n",
              "      <td>F</td>\n",
              "      <td>f</td>\n",
              "      <td>f</td>\n",
              "      <td>f</td>\n",
              "      <td>f</td>\n",
              "      <td>f</td>\n",
              "      <td>f</td>\n",
              "      <td>f</td>\n",
              "      <td>f</td>\n",
              "      <td>f</td>\n",
              "      <td>f</td>\n",
              "      <td>f</td>\n",
              "      <td>f</td>\n",
              "      <td>f</td>\n",
              "      <td>f</td>\n",
              "      <td>2.3</td>\n",
              "      <td>2.5</td>\n",
              "      <td>121.0</td>\n",
              "      <td>1.29</td>\n",
              "      <td>94.0</td>\n",
              "      <td>SVHC</td>\n",
              "      <td>P</td>\n",
              "    </tr>\n",
              "    <tr>\n",
              "      <th>2832</th>\n",
              "      <td>49.0</td>\n",
              "      <td>F</td>\n",
              "      <td>f</td>\n",
              "      <td>f</td>\n",
              "      <td>f</td>\n",
              "      <td>f</td>\n",
              "      <td>f</td>\n",
              "      <td>f</td>\n",
              "      <td>f</td>\n",
              "      <td>f</td>\n",
              "      <td>f</td>\n",
              "      <td>f</td>\n",
              "      <td>f</td>\n",
              "      <td>f</td>\n",
              "      <td>f</td>\n",
              "      <td>f</td>\n",
              "      <td>1.9</td>\n",
              "      <td>1.8</td>\n",
              "      <td>81.0</td>\n",
              "      <td>0.91</td>\n",
              "      <td>88.0</td>\n",
              "      <td>other</td>\n",
              "      <td>P</td>\n",
              "    </tr>\n",
              "  </tbody>\n",
              "</table>\n",
              "</div>\n",
              "      <button class=\"colab-df-convert\" onclick=\"convertToInteractive('df-a3b7976a-dd97-4a72-959c-6dc7c481e54d')\"\n",
              "              title=\"Convert this dataframe to an interactive table.\"\n",
              "              style=\"display:none;\">\n",
              "        \n",
              "  <svg xmlns=\"http://www.w3.org/2000/svg\" height=\"24px\"viewBox=\"0 0 24 24\"\n",
              "       width=\"24px\">\n",
              "    <path d=\"M0 0h24v24H0V0z\" fill=\"none\"/>\n",
              "    <path d=\"M18.56 5.44l.94 2.06.94-2.06 2.06-.94-2.06-.94-.94-2.06-.94 2.06-2.06.94zm-11 1L8.5 8.5l.94-2.06 2.06-.94-2.06-.94L8.5 2.5l-.94 2.06-2.06.94zm10 10l.94 2.06.94-2.06 2.06-.94-2.06-.94-.94-2.06-.94 2.06-2.06.94z\"/><path d=\"M17.41 7.96l-1.37-1.37c-.4-.4-.92-.59-1.43-.59-.52 0-1.04.2-1.43.59L10.3 9.45l-7.72 7.72c-.78.78-.78 2.05 0 2.83L4 21.41c.39.39.9.59 1.41.59.51 0 1.02-.2 1.41-.59l7.78-7.78 2.81-2.81c.8-.78.8-2.07 0-2.86zM5.41 20L4 18.59l7.72-7.72 1.47 1.35L5.41 20z\"/>\n",
              "  </svg>\n",
              "      </button>\n",
              "      \n",
              "  <style>\n",
              "    .colab-df-container {\n",
              "      display:flex;\n",
              "      flex-wrap:wrap;\n",
              "      gap: 12px;\n",
              "    }\n",
              "\n",
              "    .colab-df-convert {\n",
              "      background-color: #E8F0FE;\n",
              "      border: none;\n",
              "      border-radius: 50%;\n",
              "      cursor: pointer;\n",
              "      display: none;\n",
              "      fill: #1967D2;\n",
              "      height: 32px;\n",
              "      padding: 0 0 0 0;\n",
              "      width: 32px;\n",
              "    }\n",
              "\n",
              "    .colab-df-convert:hover {\n",
              "      background-color: #E2EBFA;\n",
              "      box-shadow: 0px 1px 2px rgba(60, 64, 67, 0.3), 0px 1px 3px 1px rgba(60, 64, 67, 0.15);\n",
              "      fill: #174EA6;\n",
              "    }\n",
              "\n",
              "    [theme=dark] .colab-df-convert {\n",
              "      background-color: #3B4455;\n",
              "      fill: #D2E3FC;\n",
              "    }\n",
              "\n",
              "    [theme=dark] .colab-df-convert:hover {\n",
              "      background-color: #434B5C;\n",
              "      box-shadow: 0px 1px 3px 1px rgba(0, 0, 0, 0.15);\n",
              "      filter: drop-shadow(0px 1px 2px rgba(0, 0, 0, 0.3));\n",
              "      fill: #FFFFFF;\n",
              "    }\n",
              "  </style>\n",
              "\n",
              "      <script>\n",
              "        const buttonEl =\n",
              "          document.querySelector('#df-a3b7976a-dd97-4a72-959c-6dc7c481e54d button.colab-df-convert');\n",
              "        buttonEl.style.display =\n",
              "          google.colab.kernel.accessAllowed ? 'block' : 'none';\n",
              "\n",
              "        async function convertToInteractive(key) {\n",
              "          const element = document.querySelector('#df-a3b7976a-dd97-4a72-959c-6dc7c481e54d');\n",
              "          const dataTable =\n",
              "            await google.colab.kernel.invokeFunction('convertToInteractive',\n",
              "                                                     [key], {});\n",
              "          if (!dataTable) return;\n",
              "\n",
              "          const docLinkHtml = 'Like what you see? Visit the ' +\n",
              "            '<a target=\"_blank\" href=https://colab.research.google.com/notebooks/data_table.ipynb>data table notebook</a>'\n",
              "            + ' to learn more about interactive tables.';\n",
              "          element.innerHTML = '';\n",
              "          dataTable['output_type'] = 'display_data';\n",
              "          await google.colab.output.renderOutput(dataTable, element);\n",
              "          const docLink = document.createElement('div');\n",
              "          docLink.innerHTML = docLinkHtml;\n",
              "          element.appendChild(docLink);\n",
              "        }\n",
              "      </script>\n",
              "    </div>\n",
              "  </div>\n",
              "  "
            ]
          },
          "metadata": {},
          "execution_count": 3
        }
      ]
    },
    {
      "cell_type": "markdown",
      "source": [
        "## Missing value Imputation & removing outliers"
      ],
      "metadata": {
        "id": "vZcuIxA8101k"
      }
    },
    {
      "cell_type": "markdown",
      "source": [
        "- From the `EDA` part we know that `age` contains one outlier & we will simply remove that."
      ],
      "metadata": {
        "id": "MejjEvbw30_6"
      }
    },
    {
      "cell_type": "code",
      "source": [
        "drop_idx = df[df['age'] == df['age'].max()].index[0]\n",
        "print('No. of rows before removing outlier: {}'.format(len(df)))\n",
        "df.drop(index = drop_idx, axis = 0, inplace = True)\n",
        "print('No. of rows after removing outlier: {}'.format(len(df)))"
      ],
      "metadata": {
        "colab": {
          "base_uri": "https://localhost:8080/"
        },
        "id": "1RldFYJp32kD",
        "outputId": "4c280824-b134-4051-ea27-8767e9fabb0a"
      },
      "execution_count": null,
      "outputs": [
        {
          "output_type": "stream",
          "name": "stdout",
          "text": [
            "No. of rows before removing outlier: 3772\n",
            "No. of rows after removing outlier: 3771\n"
          ]
        }
      ]
    },
    {
      "cell_type": "markdown",
      "source": [
        "### Imputing Missing Values\n"
      ],
      "metadata": {
        "id": "psmRlKqKAmAL"
      }
    },
    {
      "cell_type": "code",
      "source": [
        "df.isna().sum()"
      ],
      "metadata": {
        "colab": {
          "base_uri": "https://localhost:8080/"
        },
        "id": "u1aHbncv4RRa",
        "outputId": "2642ae2c-0c69-4683-cd11-748f97aa9b0c"
      },
      "execution_count": null,
      "outputs": [
        {
          "output_type": "execute_result",
          "data": {
            "text/plain": [
              "age                            1\n",
              "sex                          150\n",
              "on thyroxine                   0\n",
              "query on thyroxine             0\n",
              "on antithyroid medication      0\n",
              "sick                           0\n",
              "pregnant                       0\n",
              "thyroid surgery                0\n",
              "I131 treatment                 0\n",
              "query hypothyroid              0\n",
              "query hyperthyroid             0\n",
              "lithium                        0\n",
              "goitre                         0\n",
              "tumor                          0\n",
              "hypopituitary                  0\n",
              "psych                          0\n",
              "TSH                          369\n",
              "T3                           769\n",
              "TT4                          231\n",
              "T4U                          387\n",
              "FTI                          385\n",
              "referral source                0\n",
              "binaryClass                    0\n",
              "dtype: int64"
            ]
          },
          "metadata": {},
          "execution_count": 5
        }
      ]
    },
    {
      "cell_type": "markdown",
      "source": [
        "- As discussed earlier,\n",
        "1. We will replace the `age`, `TSH`, `T3`, `TT4`, `T4U`, `FTI` with the median.\n",
        "2. `sex` with the mode."
      ],
      "metadata": {
        "id": "Uqz0LwQH5knl"
      }
    },
    {
      "cell_type": "code",
      "source": [
        "X = df.drop('binaryClass', axis = 1)\n",
        "y = df['binaryClass']\n",
        "d = {'P':1,\n",
        "     'N':0}\n",
        "y = y.map(d)"
      ],
      "metadata": {
        "id": "bpUW2sjzFrq_"
      },
      "execution_count": null,
      "outputs": []
    },
    {
      "cell_type": "code",
      "source": [
        "X_train, X_test, y_train, y_test = train_test_split(X, y, test_size=.25, random_state = 0)"
      ],
      "metadata": {
        "id": "AfbxKXhVYhbh"
      },
      "execution_count": null,
      "outputs": []
    },
    {
      "cell_type": "markdown",
      "source": [
        "## Encoding the categorical variables and creating the pipeline"
      ],
      "metadata": {
        "id": "pJVZOxdbAqnF"
      }
    },
    {
      "cell_type": "code",
      "source": [
        "X.head(3)"
      ],
      "metadata": {
        "id": "ZnbsR5WuA5bu",
        "colab": {
          "base_uri": "https://localhost:8080/"
        },
        "outputId": "28a46478-4bbb-4d6e-98cd-786ce9d6b035"
      },
      "execution_count": null,
      "outputs": [
        {
          "output_type": "execute_result",
          "data": {
            "text/plain": [
              "    age sex on thyroxine query on thyroxine on antithyroid medication sick  \\\n",
              "0  41.0   F            f                  f                         f    f   \n",
              "1  23.0   F            f                  f                         f    f   \n",
              "2  46.0   M            f                  f                         f    f   \n",
              "\n",
              "  pregnant thyroid surgery I131 treatment query hypothyroid  \\\n",
              "0        f               f              f                 f   \n",
              "1        f               f              f                 f   \n",
              "2        f               f              f                 f   \n",
              "\n",
              "  query hyperthyroid lithium goitre tumor hypopituitary psych   TSH   T3  \\\n",
              "0                  f       f      f     f             f     f  1.30  2.5   \n",
              "1                  f       f      f     f             f     f  4.10  2.0   \n",
              "2                  f       f      f     f             f     f  0.98  NaN   \n",
              "\n",
              "     TT4   T4U    FTI referral source  \n",
              "0  125.0  1.14  109.0            SVHC  \n",
              "1  102.0   NaN    NaN           other  \n",
              "2  109.0  0.91  120.0           other  "
            ],
            "text/html": [
              "\n",
              "  <div id=\"df-016db38d-0082-4ddf-8ec4-0f71d689dc09\">\n",
              "    <div class=\"colab-df-container\">\n",
              "      <div>\n",
              "<style scoped>\n",
              "    .dataframe tbody tr th:only-of-type {\n",
              "        vertical-align: middle;\n",
              "    }\n",
              "\n",
              "    .dataframe tbody tr th {\n",
              "        vertical-align: top;\n",
              "    }\n",
              "\n",
              "    .dataframe thead th {\n",
              "        text-align: right;\n",
              "    }\n",
              "</style>\n",
              "<table border=\"1\" class=\"dataframe\">\n",
              "  <thead>\n",
              "    <tr style=\"text-align: right;\">\n",
              "      <th></th>\n",
              "      <th>age</th>\n",
              "      <th>sex</th>\n",
              "      <th>on thyroxine</th>\n",
              "      <th>query on thyroxine</th>\n",
              "      <th>on antithyroid medication</th>\n",
              "      <th>sick</th>\n",
              "      <th>pregnant</th>\n",
              "      <th>thyroid surgery</th>\n",
              "      <th>I131 treatment</th>\n",
              "      <th>query hypothyroid</th>\n",
              "      <th>query hyperthyroid</th>\n",
              "      <th>lithium</th>\n",
              "      <th>goitre</th>\n",
              "      <th>tumor</th>\n",
              "      <th>hypopituitary</th>\n",
              "      <th>psych</th>\n",
              "      <th>TSH</th>\n",
              "      <th>T3</th>\n",
              "      <th>TT4</th>\n",
              "      <th>T4U</th>\n",
              "      <th>FTI</th>\n",
              "      <th>referral source</th>\n",
              "    </tr>\n",
              "  </thead>\n",
              "  <tbody>\n",
              "    <tr>\n",
              "      <th>0</th>\n",
              "      <td>41.0</td>\n",
              "      <td>F</td>\n",
              "      <td>f</td>\n",
              "      <td>f</td>\n",
              "      <td>f</td>\n",
              "      <td>f</td>\n",
              "      <td>f</td>\n",
              "      <td>f</td>\n",
              "      <td>f</td>\n",
              "      <td>f</td>\n",
              "      <td>f</td>\n",
              "      <td>f</td>\n",
              "      <td>f</td>\n",
              "      <td>f</td>\n",
              "      <td>f</td>\n",
              "      <td>f</td>\n",
              "      <td>1.30</td>\n",
              "      <td>2.5</td>\n",
              "      <td>125.0</td>\n",
              "      <td>1.14</td>\n",
              "      <td>109.0</td>\n",
              "      <td>SVHC</td>\n",
              "    </tr>\n",
              "    <tr>\n",
              "      <th>1</th>\n",
              "      <td>23.0</td>\n",
              "      <td>F</td>\n",
              "      <td>f</td>\n",
              "      <td>f</td>\n",
              "      <td>f</td>\n",
              "      <td>f</td>\n",
              "      <td>f</td>\n",
              "      <td>f</td>\n",
              "      <td>f</td>\n",
              "      <td>f</td>\n",
              "      <td>f</td>\n",
              "      <td>f</td>\n",
              "      <td>f</td>\n",
              "      <td>f</td>\n",
              "      <td>f</td>\n",
              "      <td>f</td>\n",
              "      <td>4.10</td>\n",
              "      <td>2.0</td>\n",
              "      <td>102.0</td>\n",
              "      <td>NaN</td>\n",
              "      <td>NaN</td>\n",
              "      <td>other</td>\n",
              "    </tr>\n",
              "    <tr>\n",
              "      <th>2</th>\n",
              "      <td>46.0</td>\n",
              "      <td>M</td>\n",
              "      <td>f</td>\n",
              "      <td>f</td>\n",
              "      <td>f</td>\n",
              "      <td>f</td>\n",
              "      <td>f</td>\n",
              "      <td>f</td>\n",
              "      <td>f</td>\n",
              "      <td>f</td>\n",
              "      <td>f</td>\n",
              "      <td>f</td>\n",
              "      <td>f</td>\n",
              "      <td>f</td>\n",
              "      <td>f</td>\n",
              "      <td>f</td>\n",
              "      <td>0.98</td>\n",
              "      <td>NaN</td>\n",
              "      <td>109.0</td>\n",
              "      <td>0.91</td>\n",
              "      <td>120.0</td>\n",
              "      <td>other</td>\n",
              "    </tr>\n",
              "  </tbody>\n",
              "</table>\n",
              "</div>\n",
              "      <button class=\"colab-df-convert\" onclick=\"convertToInteractive('df-016db38d-0082-4ddf-8ec4-0f71d689dc09')\"\n",
              "              title=\"Convert this dataframe to an interactive table.\"\n",
              "              style=\"display:none;\">\n",
              "        \n",
              "  <svg xmlns=\"http://www.w3.org/2000/svg\" height=\"24px\"viewBox=\"0 0 24 24\"\n",
              "       width=\"24px\">\n",
              "    <path d=\"M0 0h24v24H0V0z\" fill=\"none\"/>\n",
              "    <path d=\"M18.56 5.44l.94 2.06.94-2.06 2.06-.94-2.06-.94-.94-2.06-.94 2.06-2.06.94zm-11 1L8.5 8.5l.94-2.06 2.06-.94-2.06-.94L8.5 2.5l-.94 2.06-2.06.94zm10 10l.94 2.06.94-2.06 2.06-.94-2.06-.94-.94-2.06-.94 2.06-2.06.94z\"/><path d=\"M17.41 7.96l-1.37-1.37c-.4-.4-.92-.59-1.43-.59-.52 0-1.04.2-1.43.59L10.3 9.45l-7.72 7.72c-.78.78-.78 2.05 0 2.83L4 21.41c.39.39.9.59 1.41.59.51 0 1.02-.2 1.41-.59l7.78-7.78 2.81-2.81c.8-.78.8-2.07 0-2.86zM5.41 20L4 18.59l7.72-7.72 1.47 1.35L5.41 20z\"/>\n",
              "  </svg>\n",
              "      </button>\n",
              "      \n",
              "  <style>\n",
              "    .colab-df-container {\n",
              "      display:flex;\n",
              "      flex-wrap:wrap;\n",
              "      gap: 12px;\n",
              "    }\n",
              "\n",
              "    .colab-df-convert {\n",
              "      background-color: #E8F0FE;\n",
              "      border: none;\n",
              "      border-radius: 50%;\n",
              "      cursor: pointer;\n",
              "      display: none;\n",
              "      fill: #1967D2;\n",
              "      height: 32px;\n",
              "      padding: 0 0 0 0;\n",
              "      width: 32px;\n",
              "    }\n",
              "\n",
              "    .colab-df-convert:hover {\n",
              "      background-color: #E2EBFA;\n",
              "      box-shadow: 0px 1px 2px rgba(60, 64, 67, 0.3), 0px 1px 3px 1px rgba(60, 64, 67, 0.15);\n",
              "      fill: #174EA6;\n",
              "    }\n",
              "\n",
              "    [theme=dark] .colab-df-convert {\n",
              "      background-color: #3B4455;\n",
              "      fill: #D2E3FC;\n",
              "    }\n",
              "\n",
              "    [theme=dark] .colab-df-convert:hover {\n",
              "      background-color: #434B5C;\n",
              "      box-shadow: 0px 1px 3px 1px rgba(0, 0, 0, 0.15);\n",
              "      filter: drop-shadow(0px 1px 2px rgba(0, 0, 0, 0.3));\n",
              "      fill: #FFFFFF;\n",
              "    }\n",
              "  </style>\n",
              "\n",
              "      <script>\n",
              "        const buttonEl =\n",
              "          document.querySelector('#df-016db38d-0082-4ddf-8ec4-0f71d689dc09 button.colab-df-convert');\n",
              "        buttonEl.style.display =\n",
              "          google.colab.kernel.accessAllowed ? 'block' : 'none';\n",
              "\n",
              "        async function convertToInteractive(key) {\n",
              "          const element = document.querySelector('#df-016db38d-0082-4ddf-8ec4-0f71d689dc09');\n",
              "          const dataTable =\n",
              "            await google.colab.kernel.invokeFunction('convertToInteractive',\n",
              "                                                     [key], {});\n",
              "          if (!dataTable) return;\n",
              "\n",
              "          const docLinkHtml = 'Like what you see? Visit the ' +\n",
              "            '<a target=\"_blank\" href=https://colab.research.google.com/notebooks/data_table.ipynb>data table notebook</a>'\n",
              "            + ' to learn more about interactive tables.';\n",
              "          element.innerHTML = '';\n",
              "          dataTable['output_type'] = 'display_data';\n",
              "          await google.colab.output.renderOutput(dataTable, element);\n",
              "          const docLink = document.createElement('div');\n",
              "          docLink.innerHTML = docLinkHtml;\n",
              "          element.appendChild(docLink);\n",
              "        }\n",
              "      </script>\n",
              "    </div>\n",
              "  </div>\n",
              "  "
            ]
          },
          "metadata": {},
          "execution_count": 8
        }
      ]
    },
    {
      "cell_type": "code",
      "source": [
        "cat_cols = ['sex', 'on thyroxine', 'query on thyroxine', \\\n",
        "                  'on antithyroid medication', 'sick', 'pregnant',\\\n",
        "                  'thyroid surgery', 'I131 treatment', 'query hypothyroid', \\\n",
        "                  'query hyperthyroid', 'lithium', 'goitre', 'tumor', 'hypopituitary',\\\n",
        "                  'psych', 'referral source']\n",
        "\n",
        "num_cols = ['age', 'TSH', 'T3', 'TT4', 'T4U', 'FTI']"
      ],
      "metadata": {
        "id": "AY9y_VFYDUou"
      },
      "execution_count": null,
      "outputs": []
    },
    {
      "cell_type": "code",
      "source": [
        "imp_num = Pipeline([\n",
        "                    ('imp', SimpleImputer(strategy = 'median')),\n",
        "                     ('scaler', MinMaxScaler())\n",
        "                    ])\n",
        "imp_cat = Pipeline([\n",
        "                    ('imp2', SimpleImputer(strategy = 'most_frequent')), \n",
        "                     ('encode', OneHotEncoder(drop = 'first', handle_unknown = 'ignore'))\n",
        "                    ])\n",
        "\n",
        "ct = make_column_transformer(\n",
        "    \n",
        "     (imp_cat, cat_cols),\n",
        "     (imp_num, num_cols)\n",
        "    , remainder='passthrough')"
      ],
      "metadata": {
        "id": "vVLN8PtuEG1N"
      },
      "execution_count": null,
      "outputs": []
    },
    {
      "cell_type": "markdown",
      "source": [
        "## Handling Imbalance"
      ],
      "metadata": {
        "id": "bIkTklzFeYzu"
      }
    },
    {
      "cell_type": "code",
      "source": [
        "smt = SMOTEENN(random_state = 0)"
      ],
      "metadata": {
        "id": "H4CkxVsDYxDk"
      },
      "execution_count": null,
      "outputs": []
    },
    {
      "cell_type": "markdown",
      "source": [
        "## Model Building"
      ],
      "metadata": {
        "id": "6h9B0Vh4edS6"
      }
    },
    {
      "cell_type": "code",
      "source": [
        "def fit_model(model, param_dict):\n",
        "  pipeline1 = pp([\n",
        "                ('pre-processing', ct),\n",
        "               ('smote', smt),\n",
        "                ('learner', model)\n",
        "                ])\n",
        "  search = RandomizedSearchCV(pipeline1, param_distributions=param_dict, n_iter = 50, random_state=0)\n",
        "  search.fit(X_train, y_train)\n",
        "  return search.best_params_, search.best_score_"
      ],
      "metadata": {
        "id": "7Bw7qargtO6z"
      },
      "execution_count": null,
      "outputs": []
    },
    {
      "cell_type": "code",
      "source": [
        "import matplotlib.pyplot as plt\n",
        "def prediction(model, X_tr, y_tr, X, y):\n",
        "  preds_tr = model.predict(X_tr)\n",
        "  print('TRAINING DATA:')\n",
        "  print(classification_report(y_tr, preds_tr))\n",
        "  print('-----------------------------------------')\n",
        "  preds = model.predict(X)\n",
        "  print('TEST DATA:')\n",
        "  print(classification_report(y, preds))\n",
        "  print('-----------------------------------------')\n",
        "  fig, ax = plt.subplots(nrows = 1, ncols = 2, figsize = (15,7))\n",
        "  plot_confusion_matrix(model, X, y, ax = ax[1])\n",
        "  ax[1].set_title('TEST DATA')\n",
        "  plot_confusion_matrix(model, X_tr, y_tr, ax = ax[0])\n",
        "  ax[0].set_title('TRAINING DATA')"
      ],
      "metadata": {
        "id": "mDJvX9fltK5B"
      },
      "execution_count": null,
      "outputs": []
    },
    {
      "cell_type": "markdown",
      "source": [
        "### 1. Logistic Regression"
      ],
      "metadata": {
        "id": "rcZIlso_d5Z2"
      }
    },
    {
      "cell_type": "code",
      "source": [
        "params = {'learner__penalty':['l1', 'l2', 'elasticnet'],\n",
        "          'learner__C':[0.2, 0.5, 0.8, 1, 1.2, 1.5, 2],\n",
        "          'learner__solver':['newton-cg', 'lbfgs', 'liblinear', 'saga']}\n",
        "lr_params, lr_score = fit_model(LogisticRegression(), params)\n",
        "lr_params, lr_score"
      ],
      "metadata": {
        "id": "jJaWSGqCp9Z4"
      },
      "execution_count": null,
      "outputs": []
    },
    {
      "cell_type": "code",
      "source": [
        "pipeline = pp([\n",
        "                ('pre-processing', ct),\n",
        "               ('smote', smt),\n",
        "                ('learner', LogisticRegression(penalty = 'l1', solver = 'liblinear', C = 2))\n",
        "])\n",
        "\n",
        "\n",
        "model = pipeline.fit(X_train, y_train)"
      ],
      "metadata": {
        "id": "h01ortjRooGi"
      },
      "execution_count": null,
      "outputs": []
    },
    {
      "cell_type": "code",
      "source": [
        "prediction(model, X_train, y_train, X_test, y_test)"
      ],
      "metadata": {
        "id": "IQC-BbCVpKHC"
      },
      "execution_count": null,
      "outputs": []
    },
    {
      "cell_type": "markdown",
      "source": [
        "### 2. Decision Tree"
      ],
      "metadata": {
        "id": "pYvCiuvHd99U"
      }
    },
    {
      "cell_type": "code",
      "source": [
        "params = {'learner__criterion':['gini', 'entropy'],\n",
        "          'learner__max_depth':[None, 64, 32, 16, 8]}\n",
        "\n",
        "dt_params, dt_score = fit_model(DecisionTreeClassifier(), params)\n",
        "dt_params, dt_score"
      ],
      "metadata": {
        "id": "Fbiiw6Emr_xJ"
      },
      "execution_count": null,
      "outputs": []
    },
    {
      "cell_type": "code",
      "source": [
        "pipeline = pp([\n",
        "                ('pre-processing', ct),\n",
        "               ('smote', smt),\n",
        "                ('learner', DecisionTreeClassifier(criterion = 'gini', max_depth = 8))\n",
        "])\n",
        "\n",
        "model = pipeline.fit(X_train, y_train)"
      ],
      "metadata": {
        "id": "8WciGKr7s0jf"
      },
      "execution_count": null,
      "outputs": []
    },
    {
      "cell_type": "code",
      "source": [
        "prediction(model,X_train, y_train, X_test, y_test)"
      ],
      "metadata": {
        "id": "PJoTFRTotBF4"
      },
      "execution_count": null,
      "outputs": []
    },
    {
      "cell_type": "markdown",
      "source": [
        "### 3. Random Forest Classifier"
      ],
      "metadata": {
        "id": "VijWo3C7dz5G"
      }
    },
    {
      "cell_type": "code",
      "source": [
        "params = {'learner__n_estimators':[80,100,120,140,160],\n",
        "          'learner__criterion':['gini', 'entropy'],\n",
        "          'learner__max_depth':[None, 64, 32, 16, 8]}\n",
        "\n",
        "rf_params, rf_score = fit_model(RandomForestClassifier(), params)\n",
        "rf_params, rf_score"
      ],
      "metadata": {
        "id": "pbkPQnA7aG04"
      },
      "execution_count": null,
      "outputs": []
    },
    {
      "cell_type": "code",
      "source": [
        "pipeline = pp([\n",
        "              ('pre-processing', ct),\n",
        "               ('smote', smt),\n",
        "                ('learner', RandomForestClassifier(n_estimators = 120, criterion = 'gini', max_depth = 32))\n",
        "])\n",
        "\n",
        "model = pipeline.fit(X_train, y_train)"
      ],
      "metadata": {
        "id": "XGUm0GL7cySU"
      },
      "execution_count": null,
      "outputs": []
    },
    {
      "cell_type": "code",
      "source": [
        "prediction(model, X_train, y_train, X_test, y_test)"
      ],
      "metadata": {
        "id": "X16pOSCfuvL2"
      },
      "execution_count": null,
      "outputs": []
    },
    {
      "cell_type": "markdown",
      "source": [
        "### 4. Adaptive Boosting"
      ],
      "metadata": {
        "id": "nH2pH9qNdsCR"
      }
    },
    {
      "cell_type": "code",
      "source": [
        "params = {'learner__n_estimators':[80,100,120,140,160],\n",
        "          'learner__learning_rate':[0.2, 0.5, 0.7, 0.9, 1]}\n",
        "\n",
        "ada_params, ada_score = fit_model(AdaBoostClassifier(), params)\n",
        "ada_params, ada_score"
      ],
      "metadata": {
        "id": "gdLE0T8bAG6d"
      },
      "execution_count": null,
      "outputs": []
    },
    {
      "cell_type": "code",
      "source": [
        "from pandas.core.common import random_state\n",
        "pipeline = pp([\n",
        "              ('pre-processing', ct),\n",
        "               ('smote', smt),\n",
        "                ('learner', AdaBoostClassifier(n_estimators = 100, learning_rate = 0.7))\n",
        "])\n",
        "\n",
        "model = pipeline.fit(X_train, y_train)"
      ],
      "metadata": {
        "id": "ajxE-5IsCUFa"
      },
      "execution_count": null,
      "outputs": []
    },
    {
      "cell_type": "code",
      "source": [
        "prediction(model, X_train, y_train, X_test, y_test)"
      ],
      "metadata": {
        "id": "1smVG2wDDEns"
      },
      "execution_count": null,
      "outputs": []
    },
    {
      "cell_type": "markdown",
      "source": [
        "### 5. Gradient Boosting"
      ],
      "metadata": {
        "id": "4qcvuuMmeFYH"
      }
    },
    {
      "cell_type": "code",
      "source": [
        "params = {'learner__n_estimators':[80,100,120,140,160],\n",
        "          'learner__learning_rate':[0.001, 0.01, 0.05, 0.1, 0.2, 0.5, 0.8, 1]}\n",
        "\n",
        "gb_params, gb_score = fit_model(GradientBoostingClassifier(), params)\n",
        "gb_params, gb_score"
      ],
      "metadata": {
        "id": "pspdOCHveNzJ",
        "colab": {
          "base_uri": "https://localhost:8080/"
        },
        "outputId": "1326dfb8-f12d-4ca5-9c4f-daa2403bde0c"
      },
      "execution_count": null,
      "outputs": [
        {
          "output_type": "execute_result",
          "data": {
            "text/plain": [
              "({'learner__learning_rate': 0.2, 'learner__n_estimators': 100},\n",
              " 0.994695894180556)"
            ]
          },
          "metadata": {},
          "execution_count": 14
        }
      ]
    },
    {
      "cell_type": "code",
      "source": [
        "pipeline = pp([\n",
        "              ('pre-processing', ct),\n",
        "               ('smote', smt),\n",
        "                ('learner', GradientBoostingClassifier(n_estimators = 100, learning_rate = 0.2))\n",
        "])\n",
        "\n",
        "model = pipeline.fit(X_train, y_train)"
      ],
      "metadata": {
        "id": "9hFoQuwfEbi3"
      },
      "execution_count": null,
      "outputs": []
    },
    {
      "cell_type": "code",
      "source": [
        "prediction(model, X_train, y_train, X_test, y_test)"
      ],
      "metadata": {
        "colab": {
          "base_uri": "https://localhost:8080/",
          "height": 798
        },
        "id": "LzGKE8DZEe1_",
        "outputId": "a0349892-e457-450a-cd49-2ff68027fda1"
      },
      "execution_count": null,
      "outputs": [
        {
          "output_type": "stream",
          "name": "stdout",
          "text": [
            "TRAINING DATA:\n",
            "              precision    recall  f1-score   support\n",
            "\n",
            "           0       0.99      0.99      0.99       209\n",
            "           1       1.00      1.00      1.00      2619\n",
            "\n",
            "    accuracy                           1.00      2828\n",
            "   macro avg       0.99      0.99      0.99      2828\n",
            "weighted avg       1.00      1.00      1.00      2828\n",
            "\n",
            "-----------------------------------------\n",
            "TEST DATA:\n",
            "              precision    recall  f1-score   support\n",
            "\n",
            "           0       1.00      0.99      0.99        82\n",
            "           1       1.00      1.00      1.00       861\n",
            "\n",
            "    accuracy                           1.00       943\n",
            "   macro avg       1.00      0.99      1.00       943\n",
            "weighted avg       1.00      1.00      1.00       943\n",
            "\n",
            "-----------------------------------------\n"
          ]
        },
        {
          "output_type": "display_data",
          "data": {
            "text/plain": [
              "<Figure size 1080x504 with 4 Axes>"
            ],
            "image/png": "[encoded data removed]"
          },
          "metadata": {
            "needs_background": "light"
          }
        }
      ]
    },
    {
      "cell_type": "markdown",
      "source": [
        "## Model Selection"
      ],
      "metadata": {
        "id": "DlAWgy47LraN"
      }
    },
    {
      "cell_type": "code",
      "source": [
        "scores = [lr_score, dt_score, rf_score, ada_score, gb_score]\n",
        "model = ['Logistic Regression', 'Decision Tree', 'Random Forest', 'Adaptive Boosting', 'Gradient Boosting']\n",
        "scores_df = pd.DataFrame(data = scores, index = model, columns = ['score'])"
      ],
      "metadata": {
        "id": "qfReMPDEL5v5"
      },
      "execution_count": null,
      "outputs": []
    },
    {
      "cell_type": "code",
      "source": [
        "scores_df.sort_values(by = 'score', ascending = False)"
      ],
      "metadata": {
        "id": "w3oIm74oMTju"
      },
      "execution_count": null,
      "outputs": []
    },
    {
      "cell_type": "markdown",
      "source": [
        "- Overall, `Gradient Boosting Algorithm` performs the best on the trainnig as well as the test data. So we will use this model for production."
      ],
      "metadata": {
        "id": "4xXcY-g8QUYh"
      }
    },
    {
      "cell_type": "markdown",
      "source": [
        "## Getting ready for production"
      ],
      "metadata": {
        "id": "IU2D89N1mCgM"
      }
    },
    {
      "cell_type": "code",
      "source": [
        "import joblib"
      ],
      "metadata": {
        "id": "Bfq3URTJmdR9"
      },
      "execution_count": null,
      "outputs": []
    },
    {
      "cell_type": "code",
      "source": [
        "joblib.dump(pipeline, 'pipe.joblib')"
      ],
      "metadata": {
        "colab": {
          "base_uri": "https://localhost:8080/"
        },
        "id": "_DBrp6akWpQk",
        "outputId": "e2b29086-74b5-40e7-9534-0550eaefba9f"
      },
      "execution_count": null,
      "outputs": [
        {
          "output_type": "execute_result",
          "data": {
            "text/plain": [
              "['pipe.joblib']"
            ]
          },
          "metadata": {},
          "execution_count": 18
        }
      ]
    },
    {
      "cell_type": "code",
      "source": [
        "same_pipe = joblib.load('pipe.joblib')"
      ],
      "metadata": {
        "id": "tPt2jTImW0a2"
      },
      "execution_count": null,
      "outputs": []
    },
    {
      "cell_type": "code",
      "source": [
        "preds = same_pipe.predict(X_test)\n",
        "print(classification_report(y_test, preds))\n",
        "plot_confusion_matrix(same_pipe, X_test, y_test)"
      ],
      "metadata": {
        "colab": {
          "base_uri": "https://localhost:8080/",
          "height": 452
        },
        "id": "FFghYVIAW52o",
        "outputId": "80b22b57-a96b-4ae2-be51-bef33a6817fc"
      },
      "execution_count": null,
      "outputs": [
        {
          "output_type": "stream",
          "name": "stdout",
          "text": [
            "              precision    recall  f1-score   support\n",
            "\n",
            "           0       1.00      0.99      0.99        82\n",
            "           1       1.00      1.00      1.00       861\n",
            "\n",
            "    accuracy                           1.00       943\n",
            "   macro avg       1.00      0.99      1.00       943\n",
            "weighted avg       1.00      1.00      1.00       943\n",
            "\n"
          ]
        },
        {
          "output_type": "execute_result",
          "data": {
            "text/plain": [
              "<sklearn.metrics._plot.confusion_matrix.ConfusionMatrixDisplay at 0x7f4a66964410>"
            ]
          },
          "metadata": {},
          "execution_count": 20
        },
        {
          "output_type": "display_data",
          "data": {
            "text/plain": [
              "<Figure size 432x288 with 2 Axes>"
            ],
            "image/png": "[encoded data removed]"
          },
          "metadata": {
            "needs_background": "light"
          }
        }
      ]
    },
    {
      "cell_type": "code",
      "source": [
        ""
      ],
      "metadata": {
        "id": "1IaenZWpXHKF"
      },
      "execution_count": null,
      "outputs": []
    }
  ]
}